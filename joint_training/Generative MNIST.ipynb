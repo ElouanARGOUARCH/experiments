{
 "cells": [
  {
   "cell_type": "code",
   "execution_count": 1,
   "id": "7e31e440",
   "metadata": {},
   "outputs": [],
   "source": [
    "import torch"
   ]
  },
  {
   "cell_type": "code",
   "execution_count": 2,
   "id": "484ac0e2",
   "metadata": {},
   "outputs": [],
   "source": [
    "###MNIST###\n",
    "import torch\n",
    "import torchvision\n",
    "import torchvision.datasets as datasets\n",
    "import matplotlib.pyplot as plt\n",
    "mnist_trainset = datasets.MNIST(root='./data', train=True, download=True, transform=None)\n",
    "mnist_testset = datasets.MNIST(root='./data', train=False, download=True, transform=None)\n",
    "randperm_train = torch.randperm(mnist_trainset.targets.shape[0])\n",
    "randperm_test_val = torch.randperm(mnist_testset.targets.shape[0])\n",
    "\n",
    "train_labels = mnist_trainset.targets[randperm_train]\n",
    "test_labels = mnist_testset.targets[randperm_test_val][:5000]\n",
    "validation_labels = mnist_testset.targets[randperm_test_val][5000:]\n",
    "\n",
    "extracted_train = mnist_trainset.data.flatten(start_dim=1).float()[randperm_train]\n",
    "train_samples = (extracted_train + torch.rand(extracted_train.shape))/256\n",
    "extracted_test = mnist_testset.data.flatten(start_dim=1).float()[randperm_test_val][:5000]\n",
    "test_samples = (extracted_test + torch.rand(extracted_test.shape))/256\n",
    "extracted_validation = mnist_testset.data.flatten(start_dim=1).float()[randperm_test_val][5000:]\n",
    "validation_samples = (extracted_validation + torch.rand(extracted_validation.shape))/256"
   ]
  },
  {
   "cell_type": "code",
   "execution_count": 5,
   "id": "26c84e52",
   "metadata": {},
   "outputs": [
    {
     "name": "stdout",
     "output_type": "stream",
     "text": [
      "torch.Size([60000, 10])\n"
     ]
    }
   ],
   "source": [
    "D_theta = torch.nn.functional.one_hot(train_labels).float()\n",
    "D_x = train_samples\n",
    "print(D_theta.shape)"
   ]
  },
  {
   "cell_type": "code",
   "execution_count": null,
   "id": "9e11c0e9",
   "metadata": {},
   "outputs": [
    {
     "name": "stderr",
     "output_type": "stream",
     "text": [
      "\r",
      "  0%|                                                                                                                                                             | 0/500 [00:00<?, ?it/s]"
     ]
    }
   ],
   "source": [
    "from conditional_density_estimation import *\n",
    "conditionnal_model = ConditionalDIF(D_x, D_theta,50,[32,32,32])\n",
    "conditionnal_model.train(500,1000, verbose = True)"
   ]
  },
  {
   "cell_type": "code",
   "execution_count": null,
   "id": "14b4f5bb",
   "metadata": {},
   "outputs": [],
   "source": []
  }
 ],
 "metadata": {
  "kernelspec": {
   "display_name": "Python 3 (ipykernel)",
   "language": "python",
   "name": "python3"
  },
  "language_info": {
   "codemirror_mode": {
    "name": "ipython",
    "version": 3
   },
   "file_extension": ".py",
   "mimetype": "text/x-python",
   "name": "python",
   "nbconvert_exporter": "python",
   "pygments_lexer": "ipython3",
   "version": "3.9.2"
  }
 },
 "nbformat": 4,
 "nbformat_minor": 5
}
