{
 "cells": [
  {
   "cell_type": "code",
   "execution_count": 1,
   "id": "43b8cf4a",
   "metadata": {},
   "outputs": [],
   "source": [
    "import torch\n",
    "%load_ext autoreload\n",
    "%autoreload 2\n",
    "from IPython.display import clear_output\n",
    "\n",
    "from pre_processing import *\n",
    "from targets import *\n",
    "from utils import * \n",
    "from conditional_density_estimation import *\n",
    "from classifiers import * "
   ]
  },
  {
   "cell_type": "code",
   "execution_count": 2,
   "id": "c88e8ff4",
   "metadata": {},
   "outputs": [],
   "source": [
    "import torch\n",
    "from tqdm import tqdm\n",
    "from conditional_density_estimation import ConditionalDIF\n",
    "from misc.metrics import *\n",
    "\n",
    "class GenerativeClassifier(torch.nn.Module):\n",
    "    def __init__(self,samples, labels, hidden_dims = [], prior_probs = None, K = 10):\n",
    "        super().__init__()\n",
    "        self.samples = samples\n",
    "        self.p = samples.shape[-1]\n",
    "        self.labels = labels\n",
    "        self.K = labels.shape[-1]\n",
    "        self.conditional_model = ConditionalDIF(samples, labels, K, hidden_dims)\n",
    "        self.conditional_model.initialize_with_EM(10)\n",
    "        if prior_probs is None:\n",
    "            self.prior_log_probs = torch.log(torch.ones(self.K)/self.K)\n",
    "        else:\n",
    "            self.prior_log_probs = torch.log(prior_probs)\n",
    "\n",
    "    def log_prob(self, samples):\n",
    "        augmented_samples = samples.unsqueeze(-2).repeat(1,self.K,1).to(samples.device)\n",
    "        augmented_labels = torch.eye(self.K).unsqueeze(0).repeat(samples.shape[0],1,1).to(samples.device)\n",
    "        temp = self.conditional_model.log_prob(augmented_samples,augmented_labels) + self.prior_log_probs.unsqueeze(0).repeat(samples.shape[0],1).to(samples.device)\n",
    "        return temp - torch.logsumexp(temp, dim = 1, keepdim= True)\n",
    "\n",
    "    def loss(self, samples,labels,w):\n",
    "        return -torch.sum(w*torch.sum(self.log_prob(samples)*labels, dim =-1))\n",
    "\n",
    "    def train(self, epochs,batch_size=None, lr = 5e-3, weight_decay = 5e-5, verbose = False, test_samples = None, test_labels = None, trace_accuracy = False):\n",
    "        w = torch.distributions.Dirichlet(torch.ones(self.samples.shape[0])).sample()\n",
    "        optimizer = torch.optim.Adam(self.parameters(), lr=lr, weight_decay = weight_decay)\n",
    "        if batch_size is None:\n",
    "            batch_size = self.samples.shape[0]\n",
    "        device = torch.device('cuda' if torch.cuda.is_available() else 'cpu')\n",
    "        dataset = torch.utils.data.TensorDataset(self.samples, self.labels, w)\n",
    "        if trace_accuracy:\n",
    "            train_accuracy_trace = []\n",
    "            if (test_samples is not None) and (test_labels is not None):\n",
    "                test_accuracy_trace = []\n",
    "        if verbose:\n",
    "            pbar = tqdm(range(epochs))\n",
    "        else:\n",
    "            pbar = range(epochs)\n",
    "        for _ in pbar:\n",
    "            self.to(device)\n",
    "            dataloader = torch.utils.data.DataLoader(dataset, batch_size=batch_size, shuffle=True)\n",
    "            for _,batch in enumerate(dataloader):\n",
    "                optimizer.zero_grad()\n",
    "                loss = self.loss(batch[0].to(device), batch[1].to(device), batch[2].to(device))\n",
    "                loss.backward()\n",
    "                optimizer.step()\n",
    "            if verbose:\n",
    "                with torch.no_grad():\n",
    "                    iteration_loss = torch.tensor(\n",
    "                        [self.loss(batch[0].to(device), batch[1].to(device), batch[2].to(device)) for _, batch in\n",
    "                         enumerate(dataloader)]).sum().item()\n",
    "                    train_accuracy = compute_accuracy(self.cpu().log_prob(self.samples), self.labels)\n",
    "                    if trace_accuracy:\n",
    "                        train_accuracy_trace.append(str(train_accuracy))\n",
    "                if (test_samples is not None) and (test_labels is not None):\n",
    "                    test_accuracy = compute_accuracy(self.log_prob(test_samples), test_labels)\n",
    "                    if trace_accuracy:\n",
    "                        test_accuracy_trace.append(str(test_accuracy))\n",
    "                    pbar.set_postfix_str('loss = ' + str(round(iteration_loss,4)) + '; device = ' + str(device) + '; train_accuracy = ' + str(train_accuracy) + '; test_accuracy = ' + str(test_accuracy))\n",
    "                else:\n",
    "                    pbar.set_postfix_str('loss = ' + str(round(iteration_loss,4)) + '; device = ' + str(device) + '; train_accuracy = ' +str(train_accuracy))\n",
    "        self.cpu()\n",
    "        if trace_accuracy:\n",
    "            if (test_samples is not None) and (test_labels is not None):\n",
    "                return train_accuracy_trace, test_accuracy_trace\n",
    "            else:\n",
    "                return train_accuracy_trace"
   ]
  },
  {
   "cell_type": "code",
   "execution_count": 3,
   "id": "23a36296",
   "metadata": {},
   "outputs": [
    {
     "data": {
      "image/png": "[encoded data removed]",
      "text/plain": [
       "<Figure size 640x480 with 1 Axes>"
      ]
     },
     "metadata": {},
     "output_type": "display_data"
    }
   ],
   "source": [
    "samples, labels = get_MNIST_dataset(one_hot = True)\n",
    "pca = PCA(samples, n_components=10, visual = True)\n",
    "number_to_switch = 50\n",
    "samples = pca.transform(samples)\n",
    "samples0 = samples[labels[:,0]==1]\n",
    "labels0 = labels[labels[:,0]==1]\n",
    "other_samples = samples[labels[:,0]==0]\n",
    "other_labels = labels[labels[:,0]==0]\n",
    "train_samples = torch.cat([samples0[:number_to_switch], other_samples[number_to_switch:]])\n",
    "train_labels = torch.cat([labels0[:number_to_switch], other_labels[number_to_switch:]])\n",
    "test_samples = torch.cat([samples0[number_to_switch:], other_samples[:number_to_switch]])\n",
    "test_labels = torch.cat([labels0[number_to_switch:], other_labels[:number_to_switch]])\n",
    "\n",
    "def shuffle(tensor, randperm=None):\n",
    "    if randperm is None:\n",
    "        randperm = torch.randperm(tensor.shape[0])\n",
    "    return tensor[randperm], randperm"
   ]
  },
  {
   "cell_type": "code",
   "execution_count": 4,
   "id": "0b8c5e6b",
   "metadata": {},
   "outputs": [
    {
     "name": "stdout",
     "output_type": "stream",
     "text": [
      "torch.Size([63097, 10])\n",
      "torch.Size([6903, 10])\n"
     ]
    }
   ],
   "source": [
    "train_samples, randperm = shuffle(train_samples)\n",
    "train_labels,_ = shuffle(train_labels, randperm)\n",
    "test_samples, randperm = shuffle(test_samples)\n",
    "test_labels,_ = shuffle(test_labels, randperm)\n",
    "train_samples = train_samples\n",
    "test_samples = test_samples\n",
    "train_labels = train_labels\n",
    "test_labels = test_labels\n",
    "print(train_samples.shape)\n",
    "print(test_labels.shape)"
   ]
  },
  {
   "cell_type": "code",
   "execution_count": 5,
   "id": "8c645444",
   "metadata": {},
   "outputs": [
    {
     "name": "stderr",
     "output_type": "stream",
     "text": [
      "100%|████████████████████| 100/100 [06:40<00:00,  4.01s/it, loss = 0.2173; device = cuda; train_accuracy = tensor(0.9234); test_accuracy = tensor(0.3535)]\n",
      "100%|██████████████████████████████████████████████████████████████████████████████████████████████████| 200/200 [14:57<00:00,  4.49s/it, loss = 0.3097; device = cuda; train_accuracy = tensor(0.8907); test_accuracy = tensor(0.3959)]\n",
      " 85%|███████████████████████████████████████████████████████████████████████████████████▎              | 170/200 [13:16<02:20,  4.69s/it, loss = 0.3028; device = cuda; train_accuracy = tensor(0.8928); test_accuracy = tensor(0.4289)]\n"
     ]
    },
    {
     "ename": "KeyboardInterrupt",
     "evalue": "",
     "output_type": "error",
     "traceback": [
      "\u001b[1;31m---------------------------------------------------------------------------\u001b[0m",
      "\u001b[1;31mKeyboardInterrupt\u001b[0m                         Traceback (most recent call last)",
      "Cell \u001b[1;32mIn[5], line 8\u001b[0m\n\u001b[0;32m      6\u001b[0m labels_plus \u001b[38;5;241m=\u001b[39m torch\u001b[38;5;241m.\u001b[39mcat([train_labels, current_labels],dim \u001b[38;5;241m=\u001b[39m \u001b[38;5;241m0\u001b[39m)\n\u001b[0;32m      7\u001b[0m genclass \u001b[38;5;241m=\u001b[39m GenerativeClassifier(samples_plus, labels_plus, [\u001b[38;5;241m32\u001b[39m,\u001b[38;5;241m32\u001b[39m,\u001b[38;5;241m32\u001b[39m], K \u001b[38;5;241m=\u001b[39m \u001b[38;5;241m5\u001b[39m)\n\u001b[1;32m----> 8\u001b[0m train_accuracy, test_accuracy \u001b[38;5;241m=\u001b[39m \u001b[43mgenclass\u001b[49m\u001b[38;5;241;43m.\u001b[39;49m\u001b[43mtrain\u001b[49m\u001b[43m(\u001b[49m\u001b[38;5;241;43m200\u001b[39;49m\u001b[43m,\u001b[49m\u001b[38;5;241;43m2000\u001b[39;49m\u001b[43m,\u001b[49m\u001b[43mverbose\u001b[49m\u001b[38;5;241;43m=\u001b[39;49m\u001b[38;5;28;43;01mTrue\u001b[39;49;00m\u001b[43m,\u001b[49m\u001b[43m \u001b[49m\u001b[43mlr\u001b[49m\u001b[38;5;241;43m=\u001b[39;49m\u001b[38;5;241;43m5e-3\u001b[39;49m\u001b[43m,\u001b[49m\u001b[43m \u001b[49m\u001b[43mtest_samples\u001b[49m\u001b[43m \u001b[49m\u001b[38;5;241;43m=\u001b[39;49m\u001b[43m \u001b[49m\u001b[43mtest_samples\u001b[49m\u001b[43m,\u001b[49m\u001b[43m \u001b[49m\u001b[43mtest_labels\u001b[49m\u001b[43m \u001b[49m\u001b[38;5;241;43m=\u001b[39;49m\u001b[43m \u001b[49m\u001b[43mtest_labels\u001b[49m\u001b[43m,\u001b[49m\u001b[43m \u001b[49m\u001b[43mtrace_accuracy\u001b[49m\u001b[43m \u001b[49m\u001b[38;5;241;43m=\u001b[39;49m\u001b[43m \u001b[49m\u001b[38;5;28;43;01mTrue\u001b[39;49;00m\u001b[43m)\u001b[49m\n",
      "Cell \u001b[1;32mIn[2], line 57\u001b[0m, in \u001b[0;36mGenerativeClassifier.train\u001b[1;34m(self, epochs, batch_size, lr, weight_decay, verbose, test_samples, test_labels, trace_accuracy)\u001b[0m\n\u001b[0;32m     53\u001b[0m \u001b[38;5;28;01mwith\u001b[39;00m torch\u001b[38;5;241m.\u001b[39mno_grad():\n\u001b[0;32m     54\u001b[0m     iteration_loss \u001b[38;5;241m=\u001b[39m torch\u001b[38;5;241m.\u001b[39mtensor(\n\u001b[0;32m     55\u001b[0m         [\u001b[38;5;28mself\u001b[39m\u001b[38;5;241m.\u001b[39mloss(batch[\u001b[38;5;241m0\u001b[39m]\u001b[38;5;241m.\u001b[39mto(device), batch[\u001b[38;5;241m1\u001b[39m]\u001b[38;5;241m.\u001b[39mto(device), batch[\u001b[38;5;241m2\u001b[39m]\u001b[38;5;241m.\u001b[39mto(device)) \u001b[38;5;28;01mfor\u001b[39;00m _, batch \u001b[38;5;129;01min\u001b[39;00m\n\u001b[0;32m     56\u001b[0m          \u001b[38;5;28menumerate\u001b[39m(dataloader)])\u001b[38;5;241m.\u001b[39msum()\u001b[38;5;241m.\u001b[39mitem()\n\u001b[1;32m---> 57\u001b[0m     train_accuracy \u001b[38;5;241m=\u001b[39m compute_accuracy(\u001b[38;5;28;43mself\u001b[39;49m\u001b[38;5;241;43m.\u001b[39;49m\u001b[43mcpu\u001b[49m\u001b[43m(\u001b[49m\u001b[43m)\u001b[49m\u001b[38;5;241;43m.\u001b[39;49m\u001b[43mlog_prob\u001b[49m\u001b[43m(\u001b[49m\u001b[38;5;28;43mself\u001b[39;49m\u001b[38;5;241;43m.\u001b[39;49m\u001b[43msamples\u001b[49m\u001b[43m)\u001b[49m, \u001b[38;5;28mself\u001b[39m\u001b[38;5;241m.\u001b[39mlabels)\n\u001b[0;32m     58\u001b[0m     \u001b[38;5;28;01mif\u001b[39;00m trace_accuracy:\n\u001b[0;32m     59\u001b[0m         train_accuracy_trace\u001b[38;5;241m.\u001b[39mappend(\u001b[38;5;28mstr\u001b[39m(train_accuracy))\n",
      "Cell \u001b[1;32mIn[2], line 23\u001b[0m, in \u001b[0;36mGenerativeClassifier.log_prob\u001b[1;34m(self, samples)\u001b[0m\n\u001b[0;32m     21\u001b[0m augmented_samples \u001b[38;5;241m=\u001b[39m samples\u001b[38;5;241m.\u001b[39munsqueeze(\u001b[38;5;241m-\u001b[39m\u001b[38;5;241m2\u001b[39m)\u001b[38;5;241m.\u001b[39mrepeat(\u001b[38;5;241m1\u001b[39m,\u001b[38;5;28mself\u001b[39m\u001b[38;5;241m.\u001b[39mK,\u001b[38;5;241m1\u001b[39m)\u001b[38;5;241m.\u001b[39mto(samples\u001b[38;5;241m.\u001b[39mdevice)\n\u001b[0;32m     22\u001b[0m augmented_labels \u001b[38;5;241m=\u001b[39m torch\u001b[38;5;241m.\u001b[39meye(\u001b[38;5;28mself\u001b[39m\u001b[38;5;241m.\u001b[39mK)\u001b[38;5;241m.\u001b[39munsqueeze(\u001b[38;5;241m0\u001b[39m)\u001b[38;5;241m.\u001b[39mrepeat(samples\u001b[38;5;241m.\u001b[39mshape[\u001b[38;5;241m0\u001b[39m],\u001b[38;5;241m1\u001b[39m,\u001b[38;5;241m1\u001b[39m)\u001b[38;5;241m.\u001b[39mto(samples\u001b[38;5;241m.\u001b[39mdevice)\n\u001b[1;32m---> 23\u001b[0m temp \u001b[38;5;241m=\u001b[39m \u001b[38;5;28;43mself\u001b[39;49m\u001b[38;5;241;43m.\u001b[39;49m\u001b[43mconditional_model\u001b[49m\u001b[38;5;241;43m.\u001b[39;49m\u001b[43mlog_prob\u001b[49m\u001b[43m(\u001b[49m\u001b[43maugmented_samples\u001b[49m\u001b[43m,\u001b[49m\u001b[43maugmented_labels\u001b[49m\u001b[43m)\u001b[49m \u001b[38;5;241m+\u001b[39m \u001b[38;5;28mself\u001b[39m\u001b[38;5;241m.\u001b[39mprior_log_probs\u001b[38;5;241m.\u001b[39munsqueeze(\u001b[38;5;241m0\u001b[39m)\u001b[38;5;241m.\u001b[39mrepeat(samples\u001b[38;5;241m.\u001b[39mshape[\u001b[38;5;241m0\u001b[39m],\u001b[38;5;241m1\u001b[39m)\u001b[38;5;241m.\u001b[39mto(samples\u001b[38;5;241m.\u001b[39mdevice)\n\u001b[0;32m     24\u001b[0m \u001b[38;5;28;01mreturn\u001b[39;00m temp \u001b[38;5;241m-\u001b[39m torch\u001b[38;5;241m.\u001b[39mlogsumexp(temp, dim \u001b[38;5;241m=\u001b[39m \u001b[38;5;241m1\u001b[39m, keepdim\u001b[38;5;241m=\u001b[39m \u001b[38;5;28;01mTrue\u001b[39;00m)\n",
      "File \u001b[1;32mc:\\users\\elouan\\pycharmprojects\\models\\venv\\lib\\site-packages\\conditional_density_estimation\\discretely_indexed_flows_conditional.py:104\u001b[0m, in \u001b[0;36mConditionalDIF.log_prob\u001b[1;34m(self, x, theta)\u001b[0m\n\u001b[0;32m    102\u001b[0m theta_unsqueezed \u001b[38;5;241m=\u001b[39m theta\u001b[38;5;241m.\u001b[39munsqueeze(\u001b[38;5;241m-\u001b[39m\u001b[38;5;241m2\u001b[39m)\u001b[38;5;241m.\u001b[39mexpand(desired_size)\n\u001b[0;32m    103\u001b[0m z \u001b[38;5;241m=\u001b[39m \u001b[38;5;28mself\u001b[39m\u001b[38;5;241m.\u001b[39mT\u001b[38;5;241m.\u001b[39mforward(x, theta)\n\u001b[1;32m--> 104\u001b[0m \u001b[38;5;28;01mreturn\u001b[39;00m torch\u001b[38;5;241m.\u001b[39mlogsumexp(\u001b[38;5;28mself\u001b[39m\u001b[38;5;241m.\u001b[39mreference_log_prob(z) \u001b[38;5;241m+\u001b[39m torch\u001b[38;5;241m.\u001b[39mdiagonal(\u001b[38;5;28mself\u001b[39m\u001b[38;5;241m.\u001b[39mW\u001b[38;5;241m.\u001b[39mlog_prob(torch\u001b[38;5;241m.\u001b[39mcat([z, theta_unsqueezed], dim \u001b[38;5;241m=\u001b[39m \u001b[38;5;241m-\u001b[39m\u001b[38;5;241m1\u001b[39m)), \u001b[38;5;241m0\u001b[39m, \u001b[38;5;241m-\u001b[39m\u001b[38;5;241m2\u001b[39m, \u001b[38;5;241m-\u001b[39m\u001b[38;5;241m1\u001b[39m)\u001b[38;5;241m+\u001b[39m \u001b[38;5;28;43mself\u001b[39;49m\u001b[38;5;241;43m.\u001b[39;49m\u001b[43mT\u001b[49m\u001b[38;5;241;43m.\u001b[39;49m\u001b[43mlog_det_J\u001b[49m\u001b[43m(\u001b[49m\u001b[43mx\u001b[49m\u001b[43m,\u001b[49m\u001b[43m \u001b[49m\u001b[43mtheta\u001b[49m\u001b[43m)\u001b[49m,dim\u001b[38;5;241m=\u001b[39m\u001b[38;5;241m-\u001b[39m\u001b[38;5;241m1\u001b[39m)\n",
      "File \u001b[1;32mc:\\users\\elouan\\pycharmprojects\\models\\venv\\lib\\site-packages\\conditional_density_estimation\\discretely_indexed_flows_conditional.py:48\u001b[0m, in \u001b[0;36mConditionalLocationScale.log_det_J\u001b[1;34m(self, x, theta)\u001b[0m\n\u001b[0;32m     46\u001b[0m new_desired_size \u001b[38;5;241m=\u001b[39m desired_size\n\u001b[0;32m     47\u001b[0m new_desired_size[\u001b[38;5;241m-\u001b[39m\u001b[38;5;241m1\u001b[39m] \u001b[38;5;241m=\u001b[39m \u001b[38;5;241m2\u001b[39m\u001b[38;5;241m*\u001b[39m\u001b[38;5;28mself\u001b[39m\u001b[38;5;241m.\u001b[39mp\n\u001b[1;32m---> 48\u001b[0m log_s \u001b[38;5;241m=\u001b[39m torch\u001b[38;5;241m.\u001b[39mreshape(\u001b[38;5;28;43mself\u001b[39;49m\u001b[38;5;241;43m.\u001b[39;49m\u001b[43mf\u001b[49m\u001b[43m(\u001b[49m\u001b[43mtheta\u001b[49m\u001b[43m)\u001b[49m, new_desired_size)[\u001b[38;5;241m.\u001b[39m\u001b[38;5;241m.\u001b[39m\u001b[38;5;241m.\u001b[39m, \u001b[38;5;28mself\u001b[39m\u001b[38;5;241m.\u001b[39mp:]\n\u001b[0;32m     49\u001b[0m \u001b[38;5;28;01mreturn\u001b[39;00m \u001b[38;5;241m-\u001b[39mlog_s\u001b[38;5;241m.\u001b[39msum(\u001b[38;5;241m-\u001b[39m\u001b[38;5;241m1\u001b[39m)\n",
      "File \u001b[1;32mc:\\users\\elouan\\pycharmprojects\\models\\venv\\lib\\site-packages\\torch\\nn\\modules\\module.py:1194\u001b[0m, in \u001b[0;36mModule._call_impl\u001b[1;34m(self, *input, **kwargs)\u001b[0m\n\u001b[0;32m   1190\u001b[0m \u001b[38;5;66;03m# If we don't have any hooks, we want to skip the rest of the logic in\u001b[39;00m\n\u001b[0;32m   1191\u001b[0m \u001b[38;5;66;03m# this function, and just call forward.\u001b[39;00m\n\u001b[0;32m   1192\u001b[0m \u001b[38;5;28;01mif\u001b[39;00m \u001b[38;5;129;01mnot\u001b[39;00m (\u001b[38;5;28mself\u001b[39m\u001b[38;5;241m.\u001b[39m_backward_hooks \u001b[38;5;129;01mor\u001b[39;00m \u001b[38;5;28mself\u001b[39m\u001b[38;5;241m.\u001b[39m_forward_hooks \u001b[38;5;129;01mor\u001b[39;00m \u001b[38;5;28mself\u001b[39m\u001b[38;5;241m.\u001b[39m_forward_pre_hooks \u001b[38;5;129;01mor\u001b[39;00m _global_backward_hooks\n\u001b[0;32m   1193\u001b[0m         \u001b[38;5;129;01mor\u001b[39;00m _global_forward_hooks \u001b[38;5;129;01mor\u001b[39;00m _global_forward_pre_hooks):\n\u001b[1;32m-> 1194\u001b[0m     \u001b[38;5;28;01mreturn\u001b[39;00m forward_call(\u001b[38;5;241m*\u001b[39m\u001b[38;5;28minput\u001b[39m, \u001b[38;5;241m*\u001b[39m\u001b[38;5;241m*\u001b[39mkwargs)\n\u001b[0;32m   1195\u001b[0m \u001b[38;5;66;03m# Do not call functions when jit is used\u001b[39;00m\n\u001b[0;32m   1196\u001b[0m full_backward_hooks, non_full_backward_hooks \u001b[38;5;241m=\u001b[39m [], []\n",
      "File \u001b[1;32mc:\\users\\elouan\\pycharmprojects\\models\\venv\\lib\\site-packages\\torch\\nn\\modules\\container.py:204\u001b[0m, in \u001b[0;36mSequential.forward\u001b[1;34m(self, input)\u001b[0m\n\u001b[0;32m    202\u001b[0m \u001b[38;5;28;01mdef\u001b[39;00m \u001b[38;5;21mforward\u001b[39m(\u001b[38;5;28mself\u001b[39m, \u001b[38;5;28minput\u001b[39m):\n\u001b[0;32m    203\u001b[0m     \u001b[38;5;28;01mfor\u001b[39;00m module \u001b[38;5;129;01min\u001b[39;00m \u001b[38;5;28mself\u001b[39m:\n\u001b[1;32m--> 204\u001b[0m         \u001b[38;5;28minput\u001b[39m \u001b[38;5;241m=\u001b[39m \u001b[43mmodule\u001b[49m\u001b[43m(\u001b[49m\u001b[38;5;28;43minput\u001b[39;49m\u001b[43m)\u001b[49m\n\u001b[0;32m    205\u001b[0m     \u001b[38;5;28;01mreturn\u001b[39;00m \u001b[38;5;28minput\u001b[39m\n",
      "File \u001b[1;32mc:\\users\\elouan\\pycharmprojects\\models\\venv\\lib\\site-packages\\torch\\nn\\modules\\module.py:1194\u001b[0m, in \u001b[0;36mModule._call_impl\u001b[1;34m(self, *input, **kwargs)\u001b[0m\n\u001b[0;32m   1190\u001b[0m \u001b[38;5;66;03m# If we don't have any hooks, we want to skip the rest of the logic in\u001b[39;00m\n\u001b[0;32m   1191\u001b[0m \u001b[38;5;66;03m# this function, and just call forward.\u001b[39;00m\n\u001b[0;32m   1192\u001b[0m \u001b[38;5;28;01mif\u001b[39;00m \u001b[38;5;129;01mnot\u001b[39;00m (\u001b[38;5;28mself\u001b[39m\u001b[38;5;241m.\u001b[39m_backward_hooks \u001b[38;5;129;01mor\u001b[39;00m \u001b[38;5;28mself\u001b[39m\u001b[38;5;241m.\u001b[39m_forward_hooks \u001b[38;5;129;01mor\u001b[39;00m \u001b[38;5;28mself\u001b[39m\u001b[38;5;241m.\u001b[39m_forward_pre_hooks \u001b[38;5;129;01mor\u001b[39;00m _global_backward_hooks\n\u001b[0;32m   1193\u001b[0m         \u001b[38;5;129;01mor\u001b[39;00m _global_forward_hooks \u001b[38;5;129;01mor\u001b[39;00m _global_forward_pre_hooks):\n\u001b[1;32m-> 1194\u001b[0m     \u001b[38;5;28;01mreturn\u001b[39;00m forward_call(\u001b[38;5;241m*\u001b[39m\u001b[38;5;28minput\u001b[39m, \u001b[38;5;241m*\u001b[39m\u001b[38;5;241m*\u001b[39mkwargs)\n\u001b[0;32m   1195\u001b[0m \u001b[38;5;66;03m# Do not call functions when jit is used\u001b[39;00m\n\u001b[0;32m   1196\u001b[0m full_backward_hooks, non_full_backward_hooks \u001b[38;5;241m=\u001b[39m [], []\n",
      "File \u001b[1;32mc:\\users\\elouan\\pycharmprojects\\models\\venv\\lib\\site-packages\\torch\\nn\\modules\\linear.py:114\u001b[0m, in \u001b[0;36mLinear.forward\u001b[1;34m(self, input)\u001b[0m\n\u001b[0;32m    113\u001b[0m \u001b[38;5;28;01mdef\u001b[39;00m \u001b[38;5;21mforward\u001b[39m(\u001b[38;5;28mself\u001b[39m, \u001b[38;5;28minput\u001b[39m: Tensor) \u001b[38;5;241m-\u001b[39m\u001b[38;5;241m>\u001b[39m Tensor:\n\u001b[1;32m--> 114\u001b[0m     \u001b[38;5;28;01mreturn\u001b[39;00m \u001b[43mF\u001b[49m\u001b[38;5;241;43m.\u001b[39;49m\u001b[43mlinear\u001b[49m\u001b[43m(\u001b[49m\u001b[38;5;28;43minput\u001b[39;49m\u001b[43m,\u001b[49m\u001b[43m \u001b[49m\u001b[38;5;28;43mself\u001b[39;49m\u001b[38;5;241;43m.\u001b[39;49m\u001b[43mweight\u001b[49m\u001b[43m,\u001b[49m\u001b[43m \u001b[49m\u001b[38;5;28;43mself\u001b[39;49m\u001b[38;5;241;43m.\u001b[39;49m\u001b[43mbias\u001b[49m\u001b[43m)\u001b[49m\n",
      "\u001b[1;31mKeyboardInterrupt\u001b[0m: "
     ]
    }
   ],
   "source": [
    "genclass = GenerativeClassifier(train_samples, train_labels, [32,32,32], K = 5)\n",
    "train_accuracy, test_accuracy = genclass.train(100,5000,verbose=True, lr=5e-3, test_samples = test_samples, test_labels = test_labels, trace_accuracy = True)\n",
    "for t in range(10):\n",
    "    current_labels = torch.nn.functional.one_hot(torch.distributions.Categorical(torch.exp(genclass.log_prob(test_samples))).sample())\n",
    "    samples_plus = torch.cat([train_samples, test_samples],dim = 0)\n",
    "    labels_plus = torch.cat([train_labels, current_labels],dim = 0)\n",
    "    genclass = GenerativeClassifier(samples_plus, labels_plus, [32,32,32], K = 5)\n",
    "    train_accuracy, test_accuracy = genclass.train(200,2000,verbose=True, lr=5e-3, test_samples = test_samples, test_labels = test_labels, trace_accuracy = True)"
   ]
  },
  {
   "cell_type": "code",
   "execution_count": 10,
   "id": "f84c3c4e",
   "metadata": {},
   "outputs": [
    {
     "name": "stderr",
     "output_type": "stream",
     "text": [
      "100%|████████████████████| 100/100 [00:26<00:00,  3.82it/s, loss = 0.8193; device = cuda; train_accuracy = tensor(0.9859); test_accuracy = tensor(0.0142)]\n"
     ]
    }
   ],
   "source": [
    "disclass = Classifier(train_samples, train_labels,[64,64,64])\n",
    "disclass.train(100,1000, lr = 5e-3, verbose = True,test_samples = test_samples, test_labels = test_labels)"
   ]
  },
  {
   "cell_type": "code",
   "execution_count": null,
   "id": "0f5bd90f",
   "metadata": {},
   "outputs": [],
   "source": []
  }
 ],
 "metadata": {
  "kernelspec": {
   "display_name": "Python 3 (ipykernel)",
   "language": "python",
   "name": "python3"
  },
  "language_info": {
   "codemirror_mode": {
    "name": "ipython",
    "version": 3
   },
   "file_extension": ".py",
   "mimetype": "text/x-python",
   "name": "python",
   "nbconvert_exporter": "python",
   "pygments_lexer": "ipython3",
   "version": "3.9.2"
  }
 },
 "nbformat": 4,
 "nbformat_minor": 5
}
