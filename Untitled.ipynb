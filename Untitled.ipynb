{
 "cells": [
  {
   "cell_type": "code",
   "execution_count": 1,
   "id": "43b8cf4a",
   "metadata": {},
   "outputs": [],
   "source": [
    "import torch\n",
    "%load_ext autoreload\n",
    "%autoreload 2\n",
    "from IPython.display import clear_output\n",
    "\n",
    "from pre_processing import *\n",
    "from targets import *\n",
    "from utils import * \n",
    "from conditional_density_estimation import *\n",
    "from classifiers import * "
   ]
  },
  {
   "cell_type": "code",
   "execution_count": 5,
   "id": "23a36296",
   "metadata": {},
   "outputs": [
    {
     "data": {
      "image/png": "[encoded data removed]",
      "text/plain": [
       "<Figure size 640x480 with 1 Axes>"
      ]
     },
     "metadata": {},
     "output_type": "display_data"
    }
   ],
   "source": [
    "samples, labels = get_MNIST_dataset(one_hot = True)\n",
    "pca = PCA(samples, n_components=150, visual = True)\n",
    "number_to_switch = 100\n",
    "samples = pca.transform(samples)\n",
    "samples0 = samples[labels[:,0]==1]\n",
    "labels0 = labels[labels[:,0]==1]\n",
    "other_samples = samples[labels[:,0]==0]\n",
    "other_labels = labels[labels[:,0]==0]\n",
    "train_samples = torch.cat([samples0[:number_to_switch], other_samples[number_to_switch:]])\n",
    "train_labels = torch.cat([labels0[:number_to_switch], other_labels[number_to_switch:]])\n",
    "test_samples = torch.cat([samples0[number_to_switch:], other_samples[:number_to_switch]])\n",
    "test_labels = torch.cat([labels0[number_to_switch:], other_labels[:number_to_switch]])\n",
    "\n",
    "def shuffle(tensor, randperm=None):\n",
    "    if randperm is None:\n",
    "        randperm = torch.randperm(tensor.shape[0])\n",
    "    return tensor[randperm], randperm"
   ]
  },
  {
   "cell_type": "code",
   "execution_count": 3,
   "id": "0b8c5e6b",
   "metadata": {},
   "outputs": [
    {
     "name": "stdout",
     "output_type": "stream",
     "text": [
      "torch.Size([63097, 20])\n",
      "torch.Size([6903, 10])\n"
     ]
    }
   ],
   "source": [
    "train_samples, randperm = shuffle(train_samples)\n",
    "train_labels,_ = shuffle(train_labels, randperm)\n",
    "test_samples, randperm = shuffle(test_samples)\n",
    "test_labels,_ = shuffle(test_labels, randperm)\n",
    "train_samples = train_samples\n",
    "test_samples = test_samples\n",
    "train_labels = train_labels\n",
    "test_labels = test_labels\n",
    "print(train_samples.shape)\n",
    "print(test_labels.shape)"
   ]
  },
  {
   "cell_type": "code",
   "execution_count": null,
   "id": "8c645444",
   "metadata": {},
   "outputs": [
    {
     "name": "stderr",
     "output_type": "stream",
     "text": [
      "100%|████████████████████████████████████████████████████████████████████████████████████████████████████████████████████████████████████████████████████████████████████████████████████| 100/100 [23:32<00:00, 14.13s/it, loss = 0.0499; device = cuda; train_accuracy = tensor(0.9741); test_accuracy = tensor(0.5008)]\n",
      "100%|█████████████████████████████████████████████████████████████████████████████████████████████████████████████████████████████████████████████████████████████████████████████████████| 200/200 [44:14<00:00, 13.27s/it, loss = 0.109; device = cuda; train_accuracy = tensor(0.9539); test_accuracy = tensor(0.5001)]\n",
      " 70%|█████████████████████████████████████████████████████████████████████████████████████████████████████████████████████████████▍                                                    | 141/200 [7:30:48<15:20, 15.61s/it, loss = 0.1189; device = cuda; train_accuracy = tensor(0.9510); test_accuracy = tensor(0.5102)]"
     ]
    }
   ],
   "source": [
    "genclass = GenerativeClassifier(train_samples, train_labels, [64,64,64], K=5)\n",
    "train_accuracy, test_accuracy = genclass.train(100,5000,verbose=True, lr=5e-3, test_samples = test_samples, test_labels = test_labels, trace_accuracy = True)\n",
    "for t in range(10):\n",
    "    current_labels = torch.nn.functional.one_hot(torch.distributions.Categorical(torch.exp(genclass.log_prob(test_samples))).sample())\n",
    "    samples_plus = torch.cat([train_samples, test_samples],dim = 0)\n",
    "    labels_plus = torch.cat([train_labels, current_labels],dim = 0)\n",
    "    genclass = GenerativeClassifier(samples_plus, labels_plus,[64,64,64], K = 5)\n",
    "    train_accuracy, test_accuracy = genclass.train(200,2000,verbose=True, lr=5e-3, test_samples = test_samples, test_labels = test_labels, trace_accuracy = True)"
   ]
  },
  {
   "cell_type": "code",
   "execution_count": 6,
   "id": "f84c3c4e",
   "metadata": {},
   "outputs": [
    {
     "name": "stderr",
     "output_type": "stream",
     "text": [
      "100%|████████████████████████████████████████████████████████████████████████████████████████████████████████████████████████████████████████████████████████████████████████████████████| 100/100 [02:44<00:00,  1.65s/it, loss = 0.9028; device = cuda; train_accuracy = tensor(0.9539); test_accuracy = tensor(0.0141)]\n"
     ]
    }
   ],
   "source": [
    "disclass = Classifier(train_samples, train_labels,[64,64,64])\n",
    "disclass.train(100,1000, lr = 5e-3, verbose = True,test_samples = test_samples, test_labels = test_labels)"
   ]
  },
  {
   "cell_type": "code",
   "execution_count": null,
   "id": "0f5bd90f",
   "metadata": {},
   "outputs": [],
   "source": []
  }
 ],
 "metadata": {
  "kernelspec": {
   "display_name": "Python 3 (ipykernel)",
   "language": "python",
   "name": "python3"
  },
  "language_info": {
   "codemirror_mode": {
    "name": "ipython",
    "version": 3
   },
   "file_extension": ".py",
   "mimetype": "text/x-python",
   "name": "python",
   "nbconvert_exporter": "python",
   "pygments_lexer": "ipython3",
   "version": "3.9.2"
  }
 },
 "nbformat": 4,
 "nbformat_minor": 5
}
