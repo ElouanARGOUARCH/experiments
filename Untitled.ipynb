{
 "cells": [
  {
   "cell_type": "code",
   "execution_count": 11,
   "id": "69ac8320",
   "metadata": {},
   "outputs": [],
   "source": [
    "import torch\n",
    "import math\n",
    "class TwoCircles():\n",
    "    def __init__(self):\n",
    "        super().__init__()\n",
    "        self.means = torch.tensor([1.,2.])\n",
    "        self.weights = torch.tensor([.5, .5])\n",
    "        self.noise = torch.tensor([0.125])\n",
    "\n",
    "    def sample(self,num_samples, joint = False):\n",
    "        angle = torch.rand(num_samples)*2*math.pi\n",
    "        cat = torch.distributions.Categorical(self.weights).sample(num_samples)\n",
    "        x,y = self.means[cat]*torch.cos(angle) + torch.randn_like(angle)*self.noise,self.means[cat]*torch.sin(angle) + torch.randn_like(angle)*self.noise\n",
    "        if not joint:\n",
    "            return torch.cat([x.unsqueeze(-1),y.unsqueeze(-1)], dim =-1)\n",
    "        else:\n",
    "            return torch.cat([x.unsqueeze(-1),y.unsqueeze(-1)], dim =-1), cat\n",
    "\n",
    "    def log_prob(self,x):\n",
    "        r = torch.norm(x, dim=-1).unsqueeze(-1)\n",
    "        cat = torch.distributions.Categorical(self.weights.to(x.device))\n",
    "        mvn = torch.distributions.MultivariateNormal(self.means.to(x.device).unsqueeze(-1), torch.eye(1).to(x.device).unsqueeze(0).repeat(2,1,1)*self.noise.to(x.device))\n",
    "        mixt = torch.distributions.MixtureSameFamily(cat, mvn)\n",
    "        return mixt.log_prob(r)"
   ]
  },
  {
   "cell_type": "code",
   "execution_count": 97,
   "id": "e8c00faf",
   "metadata": {},
   "outputs": [
    {
     "data": {
      "image/png": "[encoded data removed]",
      "text/plain": [
       "<Figure size 640x480 with 1 Axes>"
      ]
     },
     "metadata": {},
     "output_type": "display_data"
    }
   ],
   "source": [
    "samples = torch.rand(1000,1)\n",
    "plt.hist(samples[:,0].numpy(), density = True)\n",
    "plt.show()"
   ]
  },
  {
   "cell_type": "code",
   "execution_count": 98,
   "id": "ea496357",
   "metadata": {},
   "outputs": [],
   "source": [
    "from tqdm import tqdm\n",
    "class Energy_ratio(torch.nn.Module):\n",
    "    def __init__(self, target_samples, hidden_dims, instrumental_distribution):\n",
    "        super().__init__()\n",
    "        self.target_samples = target_samples\n",
    "        self.instrumental_distribution = instrumental_distribution\n",
    "        self.p = target_samples.shape[-1]\n",
    "        network_dimensions = [self.p] + hidden_dims + [1]\n",
    "        network = []\n",
    "        for h0, h1 in zip(network_dimensions, network_dimensions[1:]):\n",
    "            network.extend([torch.nn.Linear(h0, h1), torch.nn.SiLU(), ])\n",
    "        self.logit_r = torch.nn.Sequential(*network)\n",
    "        self.w = torch.distributions.Dirichlet(torch.ones(self.target_samples.shape[0])).sample()\n",
    "        \n",
    "    def sample(self, num_samples):\n",
    "        proposed_samples = self.instrumental_distribution.sample(num_samples)\n",
    "        unormalized_importance_weights = torch.exp(self.logit_r(proposed_samples)).squeeze(-1)\n",
    "        pick = torch.distributions.Categorical(unormalized_importance_weights/torch.sum(unormalized_importance_weights)).sample(num_samples)\n",
    "        print(pick.shape)\n",
    "        return proposed_samples[pick]\n",
    "    \n",
    "    def log_prob(self, x):\n",
    "        return self.logit_r(x)\n",
    "    \n",
    "    def train(self, epochs, batch_size=None, lr=5e-3, weight_decay=5e-6, verbose = True):\n",
    "        optimizer = torch.optim.Adam(self.parameters(), lr=lr, weight_decay=weight_decay)\n",
    "        if batch_size is None:\n",
    "            batch_size = self.target_samples.shape[0]\n",
    "        device = torch.device('cuda' if torch.cuda.is_available() else 'cpu')\n",
    "        self.to(device)\n",
    "        dataset = torch.utils.data.TensorDataset(self.target_samples, self.w.to(device))\n",
    "\n",
    "        if verbose:\n",
    "            pbar = tqdm(range(epochs))\n",
    "        else:\n",
    "            pbar = range(epochs)\n",
    "        for t in pbar:\n",
    "            dataloader = torch.utils.data.DataLoader(dataset, batch_size=batch_size, shuffle=True)\n",
    "            for batch in dataloader:\n",
    "                optimizer.zero_grad()\n",
    "                model_samples = self.sample([2*batch[0].shape[0]]).detach()\n",
    "                batch_loss = - torch.mean(self.log_prob(batch[0])) + batch[0].shape[0]*torch.mean(self.log_prob(model_samples))\n",
    "                batch_loss.backward()\n",
    "                optimizer.step()\n",
    "            #with torch.no_grad():\n",
    "            #    iteration_loss = torch.tensor([self.loss(batch[0], batch[1],batch[2]) for batch in dataloader]).mean().item()\n",
    "            #pbar.set_postfix_str('loss = ' + str(round(iteration_loss, 6)) + '; device = ' + str(device))\n",
    "        self.to(torch.device('cpu'))"
   ]
  },
  {
   "cell_type": "code",
   "execution_count": 99,
   "id": "a8dc3572",
   "metadata": {},
   "outputs": [
    {
     "name": "stderr",
     "output_type": "stream",
     "text": [
      " 14%|██████████▌                                                                | 14/100 [00:00<00:01, 68.68it/s]"
     ]
    },
    {
     "name": "stdout",
     "output_type": "stream",
     "text": [
      "torch.Size([2000])\n",
      "torch.Size([2000])\n",
      "torch.Size([2000])\n",
      "torch.Size([2000])\n",
      "torch.Size([2000])\n",
      "torch.Size([2000])\n",
      "torch.Size([2000])\n",
      "torch.Size([2000])\n",
      "torch.Size([2000])\n",
      "torch.Size([2000])\n",
      "torch.Size([2000])\n",
      "torch.Size([2000])\n",
      "torch.Size([2000])\n",
      "torch.Size([2000])\n"
     ]
    },
    {
     "name": "stderr",
     "output_type": "stream",
     "text": [
      "\r",
      " 22%|████████████████▌                                                          | 22/100 [00:00<00:01, 69.34it/s]"
     ]
    },
    {
     "name": "stdout",
     "output_type": "stream",
     "text": [
      "torch.Size([2000])\n",
      "torch.Size([2000])\n",
      "torch.Size([2000])\n",
      "torch.Size([2000])\n",
      "torch.Size([2000])\n",
      "torch.Size([2000])\n",
      "torch.Size([2000])\n",
      "torch.Size([2000])\n",
      "torch.Size([2000])\n",
      "torch.Size([2000])\n",
      "torch.Size([2000])\n",
      "torch.Size([2000])\n",
      "torch.Size([2000])\n"
     ]
    },
    {
     "name": "stderr",
     "output_type": "stream",
     "text": [
      " 36%|███████████████████████████                                                | 36/100 [00:00<00:01, 60.88it/s]"
     ]
    },
    {
     "name": "stdout",
     "output_type": "stream",
     "text": [
      "torch.Size([2000])\n",
      "torch.Size([2000])\n",
      "torch.Size([2000])\n",
      "torch.Size([2000])\n",
      "torch.Size([2000])\n",
      "torch.Size([2000])\n",
      "torch.Size([2000])\n",
      "torch.Size([2000])\n",
      "torch.Size([2000])\n",
      "torch.Size([2000])\n",
      "torch.Size([2000])\n",
      "torch.Size([2000])\n",
      "torch.Size([2000])\n"
     ]
    },
    {
     "name": "stderr",
     "output_type": "stream",
     "text": [
      " 50%|█████████████████████████████████████▌                                     | 50/100 [00:00<00:00, 62.33it/s]"
     ]
    },
    {
     "name": "stdout",
     "output_type": "stream",
     "text": [
      "torch.Size([2000])\n",
      "torch.Size([2000])\n",
      "torch.Size([2000])\n",
      "torch.Size([2000])\n",
      "torch.Size([2000])\n",
      "torch.Size([2000])\n",
      "torch.Size([2000])\n",
      "torch.Size([2000])\n",
      "torch.Size([2000])\n",
      "torch.Size([2000])\n",
      "torch.Size([2000])\n",
      "torch.Size([2000])\n",
      "torch.Size([2000])\n"
     ]
    },
    {
     "name": "stderr",
     "output_type": "stream",
     "text": [
      "\r",
      " 57%|██████████████████████████████████████████▋                                | 57/100 [00:00<00:00, 60.30it/s]"
     ]
    },
    {
     "name": "stdout",
     "output_type": "stream",
     "text": [
      "torch.Size([2000])\n",
      "torch.Size([2000])\n",
      "torch.Size([2000])\n",
      "torch.Size([2000])\n",
      "torch.Size([2000])\n",
      "torch.Size([2000])\n",
      "torch.Size([2000])\n",
      "torch.Size([2000])\n",
      "torch.Size([2000])\n",
      "torch.Size([2000])\n",
      "torch.Size([2000])\n"
     ]
    },
    {
     "name": "stderr",
     "output_type": "stream",
     "text": [
      " 71%|█████████████████████████████████████████████████████▎                     | 71/100 [00:01<00:00, 61.48it/s]"
     ]
    },
    {
     "name": "stdout",
     "output_type": "stream",
     "text": [
      "torch.Size([2000])\n",
      "torch.Size([2000])\n",
      "torch.Size([2000])\n",
      "torch.Size([2000])\n",
      "torch.Size([2000])\n",
      "torch.Size([2000])\n",
      "torch.Size([2000])\n",
      "torch.Size([2000])\n",
      "torch.Size([2000])\n",
      "torch.Size([2000])\n",
      "torch.Size([2000])\n",
      "torch.Size([2000])\n",
      "torch.Size([2000])\n",
      "torch.Size([2000])\n"
     ]
    },
    {
     "name": "stderr",
     "output_type": "stream",
     "text": [
      " 85%|███████████████████████████████████████████████████████████████▊           | 85/100 [00:01<00:00, 60.20it/s]"
     ]
    },
    {
     "name": "stdout",
     "output_type": "stream",
     "text": [
      "torch.Size([2000])\n",
      "torch.Size([2000])\n",
      "torch.Size([2000])\n",
      "torch.Size([2000])\n",
      "torch.Size([2000])\n",
      "torch.Size([2000])\n",
      "torch.Size([2000])\n",
      "torch.Size([2000])\n",
      "torch.Size([2000])\n",
      "torch.Size([2000])\n",
      "torch.Size([2000])\n",
      "torch.Size([2000])\n"
     ]
    },
    {
     "name": "stderr",
     "output_type": "stream",
     "text": [
      " 98%|█████████████████████████████████████████████████████████████████████████▌ | 98/100 [00:01<00:00, 57.11it/s]"
     ]
    },
    {
     "name": "stdout",
     "output_type": "stream",
     "text": [
      "torch.Size([2000])\n",
      "torch.Size([2000])\n",
      "torch.Size([2000])\n",
      "torch.Size([2000])\n",
      "torch.Size([2000])\n",
      "torch.Size([2000])\n",
      "torch.Size([2000])\n",
      "torch.Size([2000])\n",
      "torch.Size([2000])\n",
      "torch.Size([2000])\n"
     ]
    },
    {
     "name": "stderr",
     "output_type": "stream",
     "text": [
      "100%|██████████████████████████████████████████████████████████████████████████| 100/100 [00:01<00:00, 60.35it/s]\n"
     ]
    }
   ],
   "source": [
    "model = Energy_ratio(samples, [32,32,32], torch.distributions.MultivariateNormal(torch.zeros(1), torch.eye(1)))\n",
    "model.train(100, lr = 1e-4)"
   ]
  },
  {
   "cell_type": "code",
   "execution_count": 100,
   "id": "3d161aea",
   "metadata": {},
   "outputs": [
    {
     "name": "stdout",
     "output_type": "stream",
     "text": [
      "torch.Size([10000])\n"
     ]
    },
    {
     "data": {
      "text/plain": [
       "(array([6.70074173e-03, 2.60443885e-02, 1.33888406e-01, 3.08486955e-01,\n",
       "        3.82574395e-01, 2.80419720e-01, 1.05315431e-01, 1.79529253e-02,\n",
       "        2.78143996e-03, 1.26429089e-04]),\n",
       " array([-3.49898863, -2.70803142, -1.91707408, -1.12611687, -0.3351596 ,\n",
       "         0.45579767,  1.24675488,  2.0377121 ,  2.82866955,  3.61962676,\n",
       "         4.41058397]),\n",
       " <BarContainer object of 10 artists>)"
      ]
     },
     "execution_count": 100,
     "metadata": {},
     "output_type": "execute_result"
    },
    {
     "data": {
      "image/png": "[encoded data removed]",
      "text/plain": [
       "<Figure size 640x480 with 1 Axes>"
      ]
     },
     "metadata": {},
     "output_type": "display_data"
    }
   ],
   "source": [
    "model_samples = model.sample([10000])\n",
    "plt.hist(model_samples[:,0].numpy(), density = True)"
   ]
  },
  {
   "cell_type": "code",
   "execution_count": 92,
   "id": "389158b0",
   "metadata": {},
   "outputs": [],
   "source": [
    "proposal = torch.distributions.MultivariateNormal(torch.zeros(1), torch.eye(1))\n",
    "from misc import *\n",
    "target= Uniform(torch.tensor([-1]), torch.tensor([1]))\n",
    "def sample(num_samples):\n",
    "    proposed_samples = proposal.sample(num_samples)\n",
    "    unormalized_importance_weights = torch.exp(target.log_prob(proposed_samples)-proposal.log_prob(proposed_samples)).squeeze(-1)\n",
    "    pick = torch.distributions.Categorical(unormalized_importance_weights/torch.sum(unormalized_importance_weights)).sample(num_samples)\n",
    "    print(pick.shape)\n",
    "    return proposed_samples[pick]"
   ]
  },
  {
   "cell_type": "code",
   "execution_count": 93,
   "id": "e88e1b1b",
   "metadata": {},
   "outputs": [
    {
     "name": "stdout",
     "output_type": "stream",
     "text": [
      "torch.Size([100000])\n"
     ]
    }
   ],
   "source": [
    "samples = sample([100000])"
   ]
  },
  {
   "cell_type": "code",
   "execution_count": 94,
   "id": "2cff5c61",
   "metadata": {},
   "outputs": [
    {
     "data": {
      "text/plain": [
       "(array([ 9802., 10027., 10189.,  9875., 10001., 10189., 10051.,  9985.,\n",
       "         9986.,  9895.]),\n",
       " array([-9.99924481e-01, -7.99937189e-01, -5.99949837e-01, -3.99962544e-01,\n",
       "        -1.99975237e-01,  1.20699406e-05,  1.99999377e-01,  3.99986684e-01,\n",
       "         5.99973977e-01,  7.99961329e-01,  9.99948621e-01]),\n",
       " <BarContainer object of 10 artists>)"
      ]
     },
     "execution_count": 94,
     "metadata": {},
     "output_type": "execute_result"
    },
    {
     "data": {
      "image/png": "[encoded data removed]",
      "text/plain": [
       "<Figure size 640x480 with 1 Axes>"
      ]
     },
     "metadata": {},
     "output_type": "display_data"
    }
   ],
   "source": [
    "plt.hist(samples[:,0].numpy())"
   ]
  },
  {
   "cell_type": "code",
   "execution_count": null,
   "id": "14b92481",
   "metadata": {},
   "outputs": [],
   "source": []
  }
 ],
 "metadata": {
  "kernelspec": {
   "display_name": "Python 3 (ipykernel)",
   "language": "python",
   "name": "python3"
  },
  "language_info": {
   "codemirror_mode": {
    "name": "ipython",
    "version": 3
   },
   "file_extension": ".py",
   "mimetype": "text/x-python",
   "name": "python",
   "nbconvert_exporter": "python",
   "pygments_lexer": "ipython3",
   "version": "3.9.2"
  }
 },
 "nbformat": 4,
 "nbformat_minor": 5
}
