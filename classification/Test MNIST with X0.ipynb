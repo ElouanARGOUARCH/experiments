{
 "cells": [
  {
   "cell_type": "code",
   "execution_count": 1,
   "id": "16f33ed6",
   "metadata": {},
   "outputs": [],
   "source": [
    "import torch\n",
    "from torch import nn\n",
    "class SoftmaxWeight(nn.Module):\n",
    "    def __init__(self, K, p, hidden_dimensions =[]):\n",
    "        super().__init__()\n",
    "        self.K = K\n",
    "        self.p = p\n",
    "        self.network_dimensions = [self.p] + hidden_dimensions + [self.K]\n",
    "        network = []\n",
    "        for h0, h1 in zip(self.network_dimensions, self.network_dimensions[1:]):\n",
    "            network.extend([nn.Linear(h0, h1),nn.Tanh(),])\n",
    "        network.pop()\n",
    "        self.f = nn.Sequential(*network)\n",
    "\n",
    "    def log_prob(self, z):\n",
    "        unormalized_log_w = self.f.forward(z)\n",
    "        return unormalized_log_w - torch.logsumexp(unormalized_log_w, dim=-1, keepdim=True)"
   ]
  },
  {
   "cell_type": "code",
   "execution_count": 2,
   "id": "4eec4ef7",
   "metadata": {},
   "outputs": [],
   "source": [
    "###MNIST###\n",
    "import torch\n",
    "import torchvision\n",
    "import torchvision.datasets as datasets\n",
    "import matplotlib.pyplot as plt\n",
    "mnist_trainset = datasets.MNIST(root='./data', train=True, download=True, transform=None)\n",
    "mnist_testset = datasets.MNIST(root='./data', train=False, download=True, transform=None)\n",
    "train_labels = mnist_trainset.targets[:10000]\n",
    "test_labels = mnist_testset.targets[:5000]\n",
    "validation_labels = mnist_testset.targets[5000:]\n",
    "\n",
    "extracted_train = mnist_trainset.data.flatten(start_dim=1).float()[:10000]\n",
    "train_samples = (extracted_train + torch.rand(extracted_train.shape))/256\n",
    "extracted_test = mnist_testset.data.flatten(start_dim=1).float()[:5000]\n",
    "test_samples = (extracted_test + torch.rand(extracted_test.shape))/256\n",
    "extracted_validation = mnist_testset.data.flatten(start_dim=1).float()[5000:]\n",
    "validation_samples = (extracted_validation + torch.rand(extracted_validation.shape))/256"
   ]
  },
  {
   "cell_type": "code",
   "execution_count": 3,
   "id": "d4fad6a3",
   "metadata": {},
   "outputs": [],
   "source": [
    "from tqdm import tqdm"
   ]
  },
  {
   "cell_type": "code",
   "execution_count": 8,
   "id": "f441c479",
   "metadata": {},
   "outputs": [
    {
     "name": "stderr",
     "output_type": "stream",
     "text": [
      "100%|████████████████████████████████████████████████████████████████████████████████████████████████████████████████████████████████████████████████████████████████████████████████████████████████| 2000/2000 [00:14<00:00, 136.51it/s]\n"
     ]
    },
    {
     "data": {
      "text/plain": [
       "SoftmaxWeight(\n",
       "  (f): Sequential(\n",
       "    (0): Linear(in_features=784, out_features=128, bias=True)\n",
       "    (1): Tanh()\n",
       "    (2): Linear(in_features=128, out_features=128, bias=True)\n",
       "    (3): Tanh()\n",
       "    (4): Linear(in_features=128, out_features=10, bias=True)\n",
       "  )\n",
       ")"
      ]
     },
     "execution_count": 8,
     "metadata": {},
     "output_type": "execute_result"
    }
   ],
   "source": [
    "w = SoftmaxWeight(10,784,[128,128])\n",
    "optim = torch.optim.Adam(w.parameters(), lr = 5e-4)\n",
    "list_accuracy_train = []\n",
    "list_accuracy_loss = []\n",
    "list_accuracy_validation = []\n",
    "list_loss_train = []\n",
    "list_loss_test = []\n",
    "list_loss_validation = []\n",
    "device = torch.device('cuda')\n",
    "train_samples = train_samples.to(device)\n",
    "train_labels = train_labels.to(device)\n",
    "test_samples = test_samples.to(device)\n",
    "test_labels = test_labels.to(device)\n",
    "validation_samples = validation_samples.to(device)\n",
    "validation_labels = validation_labels.to(device)\n",
    "counts = torch.unique(train_labels, return_counts = True)[1]\n",
    "test_samples = test_samples.to(device)\n",
    "test_labels = test_labels.to(device)\n",
    "w.to(device)\n",
    "for t in tqdm(range(2000)):\n",
    "    optim.zero_grad()\n",
    "    loss_train = -torch.mean((w.log_prob(train_samples)*counts)[range(train_samples.shape[0]),train_labels])\n",
    "    with torch.no_grad():\n",
    "        accuracy_train = torch.mean((torch.max(w.log_prob(train_samples), dim = 1)[1] == train_labels).float())\n",
    "        loss_test = -torch.mean((w.log_prob(test_samples)*counts)[range(test_samples.shape[0]),test_labels])\n",
    "        accuracy_test = torch.mean((torch.max(w.log_prob(test_samples), dim = 1)[1] == test_labels).float())\n",
    "        loss_validation = -torch.mean((w.log_prob(validation_samples)*counts)[range(validation_samples.shape[0]),validation_labels])\n",
    "        accuracy_validation = torch.mean((torch.max(w.log_prob(validation_samples), dim = 1)[1] == validation_labels).float())\n",
    "    loss_train.backward()\n",
    "    list_accuracy_train.append(accuracy_train.cpu())\n",
    "    list_accuracy_loss.append(accuracy_test.cpu())\n",
    "    list_accuracy_validation.append(accuracy_validation.cpu())\n",
    "    list_loss_train.append(loss_train.cpu().detach())\n",
    "    list_loss_test.append(loss_test.cpu())\n",
    "    list_loss_validation.append(loss_validation.cpu())\n",
    "    optim.step()\n",
    "w.cpu()\n"
   ]
  },
  {
   "cell_type": "code",
   "execution_count": 10,
   "id": "1d5d4e34",
   "metadata": {},
   "outputs": [
    {
     "data": {
      "image/png": "[encoded data removed]",
      "text/plain": [
       "<Figure size 432x288 with 1 Axes>"
      ]
     },
     "metadata": {
      "needs_background": "light"
     },
     "output_type": "display_data"
    },
    {
     "data": {
      "image/png": "[encoded data removed]",
      "text/plain": [
       "<Figure size 432x288 with 1 Axes>"
      ]
     },
     "metadata": {
      "needs_background": "light"
     },
     "output_type": "display_data"
    }
   ],
   "source": [
    "plt.plot(list_accuracy_train)\n",
    "plt.plot(list_accuracy_loss)\n",
    "plt.plot(list_accuracy_validation)\n",
    "plt.show()\n",
    "plt.plot(list_loss_train)\n",
    "plt.plot(list_loss_test)\n",
    "plt.plot(list_loss_validation)\n",
    "plt.show()"
   ]
  },
  {
   "cell_type": "code",
   "execution_count": null,
   "id": "5e941fc2",
   "metadata": {},
   "outputs": [],
   "source": [
    "sample = test_samples[0].cpu()\n",
    "plt.imshow(sample.reshape(28,28))\n",
    "print(torch.exp(w.log_prob(sample)))"
   ]
  },
  {
   "cell_type": "code",
   "execution_count": null,
   "id": "7aaf22d0",
   "metadata": {},
   "outputs": [],
   "source": [
    "list_accuracy_gibbs = []\n",
    "for i in tqdm(range(10)):\n",
    "    fake_labels= torch.distributions.Categorical(torch.exp(w.to(device).log_prob(test_samples.to(device)))).sample()\n",
    "    samples = torch.cat([train_samples.to(device), test_samples.to(device)], dim = 0)\n",
    "    w = SoftmaxWeight(10,784,[128,128]).to(device)\n",
    "    optim = torch.optim.Adam(w.parameters(), lr = 5e-4)\n",
    "    weights = torch.distributions.Dirichlet(torch.ones(samples.shape[0]).to(device)).sample()\n",
    "    for t in range(2000):\n",
    "        labels = torch.cat([train_labels.to(device), fake_labels], dim =0)\n",
    "        optim.zero_grad()\n",
    "        counts = torch.unique(labels, return_counts = True)[1] \n",
    "        loss = -torch.sum((w.log_prob(samples))[range(labels.shape[0]),labels]*weights)\n",
    "        accuracy = torch.mean((torch.max(w.log_prob(test_samples), dim = 1)[1] == test_labels).float())\n",
    "        loss.backward()\n",
    "        optim.step()\n",
    "        list_accuracy_gibbs.append(accuracy)"
   ]
  },
  {
   "cell_type": "code",
   "execution_count": null,
   "id": "cbb102b7",
   "metadata": {},
   "outputs": [],
   "source": [
    "plt.figure(figsize = (15,8))\n",
    "plt.plot(torch.stack(list_accuracy).cpu().numpy(), label = 'Standard')\n",
    "plt.plot(torch.stack(list_accuracy_gibbs).cpu().numpy(), label = 'Gibbs')\n",
    "plt.legend()\n",
    "plt.show()"
   ]
  },
  {
   "cell_type": "code",
   "execution_count": null,
   "id": "81499733",
   "metadata": {},
   "outputs": [],
   "source": [
    "print(torch.max(torch.stack(list_accuracy)))\n",
    "print(torch.max(torch.stack(list_accuracy_gibbs)))"
   ]
  },
  {
   "cell_type": "code",
   "execution_count": null,
   "id": "dd3e2f8e",
   "metadata": {},
   "outputs": [],
   "source": [
    "w.cpu()\n",
    "accuracy = torch.mean((torch.max(w.log_prob(validation_samples), dim = 1)[1] == validation_labels).float())\n",
    "print(accuracy)"
   ]
  },
  {
   "cell_type": "code",
   "execution_count": null,
   "id": "38cd0764",
   "metadata": {},
   "outputs": [],
   "source": []
  }
 ],
 "metadata": {
  "kernelspec": {
   "display_name": "Python 3 (ipykernel)",
   "language": "python",
   "name": "python3"
  },
  "language_info": {
   "codemirror_mode": {
    "name": "ipython",
    "version": 3
   },
   "file_extension": ".py",
   "mimetype": "text/x-python",
   "name": "python",
   "nbconvert_exporter": "python",
   "pygments_lexer": "ipython3",
   "version": "3.9.2"
  }
 },
 "nbformat": 4,
 "nbformat_minor": 5
}
